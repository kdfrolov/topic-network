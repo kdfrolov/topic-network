{
  "nbformat": 4,
  "nbformat_minor": 0,
  "metadata": {
    "colab": {
      "provenance": []
    },
    "kernelspec": {
      "name": "python3",
      "display_name": "Python 3"
    },
    "language_info": {
      "name": "python"
    }
  },
  "cells": [
    {
      "cell_type": "markdown",
      "source": [
        "Загружаем данные из файла"
      ],
      "metadata": {
        "id": "hfoK9DNpBlsC"
      }
    },
    {
      "cell_type": "code",
      "execution_count": null,
      "metadata": {
        "colab": {
          "base_uri": "https://localhost:8080/",
          "height": 424
        },
        "id": "jgHzMe0GY4uT",
        "outputId": "f36053da-3101-41bc-98e8-e73d4da0829f"
      },
      "outputs": [
        {
          "output_type": "execute_result",
          "data": {
            "text/plain": [
              "    Page                                                URL  \\\n",
              "0      1  https://topcor.ru/34670-v-litve-iskljuchili-vo...   \n",
              "1      1  https://topcor.ru/34672-tolko-pobediv-v-svo-ro...   \n",
              "2      1  https://topcor.ru/34668-ukrainskaja-sau-gvozdi...   \n",
              "3      1  https://topcor.ru/34669-vsu-budet-tjazhelo-pro...   \n",
              "4      1  https://topcor.ru/34667-moskva-nam-ne-vrag-pri...   \n",
              "..   ...                                                ...   \n",
              "93     5  https://topcor.ru/34553-eurostat-dokazal-polzu...   \n",
              "94     5  https://topcor.ru/34556-tac-amerikancam-nado-o...   \n",
              "95     5  https://topcor.ru/34555-bloomberg-evropejskie-...   \n",
              "96     5  https://topcor.ru/34550-v-murmanskoj-oblasti-u...   \n",
              "97     5  https://topcor.ru/34547-pochemu-shvedskij-istr...   \n",
              "\n",
              "                                                Title  \\\n",
              "0   В Литве исключили возможность вступления Украи...   \n",
              "1   Только победив в СВО Россия поставит на место ...   \n",
              "2   Украинская САУ «Гвоздика» не выдержала попадан...   \n",
              "3   ВСУ будет тяжело прорваться через линию оборон...   \n",
              "4   «Москва нам не враг»: Пригожин рассказал об от...   \n",
              "..                                                ...   \n",
              "93  Eurostat доказал пользу российского газа для Е...   \n",
              "94  TAC: американцам нужно обезвредить Блинкена и ...   \n",
              "95  Bloomberg: европейские санкции и исторический ...   \n",
              "96  В Мурманской области упал истребитель-перехват...   \n",
              "97  Почему шведский истребитель «Грипен» не решит ...   \n",
              "\n",
              "                                                 Text       Type  \n",
              "0   Украина не сможет вступить в Североатлантическ...   Политика  \n",
              "1   За последние годы наглость русофобов дошла до ...   Политика  \n",
              "2   Новости об очередной удачной охоте российского...      Техно  \n",
              "3   Для украинских военных станет тяжелым испытани...   Политика  \n",
              "4   Основатель ЧВК «Вагнер» Евгений Пригожин дал б...   Общество  \n",
              "..                                                ...        ...  \n",
              "93  Статистика и точные факты – упрямая вещь, особ...  Экономика  \n",
              "94  Америка развязала ничем не оправданные войны в...   Политика  \n",
              "95  Если 2022 год можно назвать временем эйфории и...  Экономика  \n",
              "96  Во время учебного полета в Мончегорске (Мурман...      Техно  \n",
              "97  Украина давно рассматривает возможности получе...      Техно  \n",
              "\n",
              "[98 rows x 5 columns]"
            ],
            "text/html": [
              "\n",
              "  <div id=\"df-6e9fd0b3-7b9b-4072-b951-9d3f377864c9\">\n",
              "    <div class=\"colab-df-container\">\n",
              "      <div>\n",
              "<style scoped>\n",
              "    .dataframe tbody tr th:only-of-type {\n",
              "        vertical-align: middle;\n",
              "    }\n",
              "\n",
              "    .dataframe tbody tr th {\n",
              "        vertical-align: top;\n",
              "    }\n",
              "\n",
              "    .dataframe thead th {\n",
              "        text-align: right;\n",
              "    }\n",
              "</style>\n",
              "<table border=\"1\" class=\"dataframe\">\n",
              "  <thead>\n",
              "    <tr style=\"text-align: right;\">\n",
              "      <th></th>\n",
              "      <th>Page</th>\n",
              "      <th>URL</th>\n",
              "      <th>Title</th>\n",
              "      <th>Text</th>\n",
              "      <th>Type</th>\n",
              "    </tr>\n",
              "  </thead>\n",
              "  <tbody>\n",
              "    <tr>\n",
              "      <th>0</th>\n",
              "      <td>1</td>\n",
              "      <td>https://topcor.ru/34670-v-litve-iskljuchili-vo...</td>\n",
              "      <td>В Литве исключили возможность вступления Украи...</td>\n",
              "      <td>Украина не сможет вступить в Североатлантическ...</td>\n",
              "      <td>Политика</td>\n",
              "    </tr>\n",
              "    <tr>\n",
              "      <th>1</th>\n",
              "      <td>1</td>\n",
              "      <td>https://topcor.ru/34672-tolko-pobediv-v-svo-ro...</td>\n",
              "      <td>Только победив в СВО Россия поставит на место ...</td>\n",
              "      <td>За последние годы наглость русофобов дошла до ...</td>\n",
              "      <td>Политика</td>\n",
              "    </tr>\n",
              "    <tr>\n",
              "      <th>2</th>\n",
              "      <td>1</td>\n",
              "      <td>https://topcor.ru/34668-ukrainskaja-sau-gvozdi...</td>\n",
              "      <td>Украинская САУ «Гвоздика» не выдержала попадан...</td>\n",
              "      <td>Новости об очередной удачной охоте российского...</td>\n",
              "      <td>Техно</td>\n",
              "    </tr>\n",
              "    <tr>\n",
              "      <th>3</th>\n",
              "      <td>1</td>\n",
              "      <td>https://topcor.ru/34669-vsu-budet-tjazhelo-pro...</td>\n",
              "      <td>ВСУ будет тяжело прорваться через линию оборон...</td>\n",
              "      <td>Для украинских военных станет тяжелым испытани...</td>\n",
              "      <td>Политика</td>\n",
              "    </tr>\n",
              "    <tr>\n",
              "      <th>4</th>\n",
              "      <td>1</td>\n",
              "      <td>https://topcor.ru/34667-moskva-nam-ne-vrag-pri...</td>\n",
              "      <td>«Москва нам не враг»: Пригожин рассказал об от...</td>\n",
              "      <td>Основатель ЧВК «Вагнер» Евгений Пригожин дал б...</td>\n",
              "      <td>Общество</td>\n",
              "    </tr>\n",
              "    <tr>\n",
              "      <th>...</th>\n",
              "      <td>...</td>\n",
              "      <td>...</td>\n",
              "      <td>...</td>\n",
              "      <td>...</td>\n",
              "      <td>...</td>\n",
              "    </tr>\n",
              "    <tr>\n",
              "      <th>93</th>\n",
              "      <td>5</td>\n",
              "      <td>https://topcor.ru/34553-eurostat-dokazal-polzu...</td>\n",
              "      <td>Eurostat доказал пользу российского газа для Е...</td>\n",
              "      <td>Статистика и точные факты – упрямая вещь, особ...</td>\n",
              "      <td>Экономика</td>\n",
              "    </tr>\n",
              "    <tr>\n",
              "      <th>94</th>\n",
              "      <td>5</td>\n",
              "      <td>https://topcor.ru/34556-tac-amerikancam-nado-o...</td>\n",
              "      <td>TAC: американцам нужно обезвредить Блинкена и ...</td>\n",
              "      <td>Америка развязала ничем не оправданные войны в...</td>\n",
              "      <td>Политика</td>\n",
              "    </tr>\n",
              "    <tr>\n",
              "      <th>95</th>\n",
              "      <td>5</td>\n",
              "      <td>https://topcor.ru/34555-bloomberg-evropejskie-...</td>\n",
              "      <td>Bloomberg: европейские санкции и исторический ...</td>\n",
              "      <td>Если 2022 год можно назвать временем эйфории и...</td>\n",
              "      <td>Экономика</td>\n",
              "    </tr>\n",
              "    <tr>\n",
              "      <th>96</th>\n",
              "      <td>5</td>\n",
              "      <td>https://topcor.ru/34550-v-murmanskoj-oblasti-u...</td>\n",
              "      <td>В Мурманской области упал истребитель-перехват...</td>\n",
              "      <td>Во время учебного полета в Мончегорске (Мурман...</td>\n",
              "      <td>Техно</td>\n",
              "    </tr>\n",
              "    <tr>\n",
              "      <th>97</th>\n",
              "      <td>5</td>\n",
              "      <td>https://topcor.ru/34547-pochemu-shvedskij-istr...</td>\n",
              "      <td>Почему шведский истребитель «Грипен» не решит ...</td>\n",
              "      <td>Украина давно рассматривает возможности получе...</td>\n",
              "      <td>Техно</td>\n",
              "    </tr>\n",
              "  </tbody>\n",
              "</table>\n",
              "<p>98 rows × 5 columns</p>\n",
              "</div>\n",
              "      <button class=\"colab-df-convert\" onclick=\"convertToInteractive('df-6e9fd0b3-7b9b-4072-b951-9d3f377864c9')\"\n",
              "              title=\"Convert this dataframe to an interactive table.\"\n",
              "              style=\"display:none;\">\n",
              "        \n",
              "  <svg xmlns=\"http://www.w3.org/2000/svg\" height=\"24px\"viewBox=\"0 0 24 24\"\n",
              "       width=\"24px\">\n",
              "    <path d=\"M0 0h24v24H0V0z\" fill=\"none\"/>\n",
              "    <path d=\"M18.56 5.44l.94 2.06.94-2.06 2.06-.94-2.06-.94-.94-2.06-.94 2.06-2.06.94zm-11 1L8.5 8.5l.94-2.06 2.06-.94-2.06-.94L8.5 2.5l-.94 2.06-2.06.94zm10 10l.94 2.06.94-2.06 2.06-.94-2.06-.94-.94-2.06-.94 2.06-2.06.94z\"/><path d=\"M17.41 7.96l-1.37-1.37c-.4-.4-.92-.59-1.43-.59-.52 0-1.04.2-1.43.59L10.3 9.45l-7.72 7.72c-.78.78-.78 2.05 0 2.83L4 21.41c.39.39.9.59 1.41.59.51 0 1.02-.2 1.41-.59l7.78-7.78 2.81-2.81c.8-.78.8-2.07 0-2.86zM5.41 20L4 18.59l7.72-7.72 1.47 1.35L5.41 20z\"/>\n",
              "  </svg>\n",
              "      </button>\n",
              "      \n",
              "  <style>\n",
              "    .colab-df-container {\n",
              "      display:flex;\n",
              "      flex-wrap:wrap;\n",
              "      gap: 12px;\n",
              "    }\n",
              "\n",
              "    .colab-df-convert {\n",
              "      background-color: #E8F0FE;\n",
              "      border: none;\n",
              "      border-radius: 50%;\n",
              "      cursor: pointer;\n",
              "      display: none;\n",
              "      fill: #1967D2;\n",
              "      height: 32px;\n",
              "      padding: 0 0 0 0;\n",
              "      width: 32px;\n",
              "    }\n",
              "\n",
              "    .colab-df-convert:hover {\n",
              "      background-color: #E2EBFA;\n",
              "      box-shadow: 0px 1px 2px rgba(60, 64, 67, 0.3), 0px 1px 3px 1px rgba(60, 64, 67, 0.15);\n",
              "      fill: #174EA6;\n",
              "    }\n",
              "\n",
              "    [theme=dark] .colab-df-convert {\n",
              "      background-color: #3B4455;\n",
              "      fill: #D2E3FC;\n",
              "    }\n",
              "\n",
              "    [theme=dark] .colab-df-convert:hover {\n",
              "      background-color: #434B5C;\n",
              "      box-shadow: 0px 1px 3px 1px rgba(0, 0, 0, 0.15);\n",
              "      filter: drop-shadow(0px 1px 2px rgba(0, 0, 0, 0.3));\n",
              "      fill: #FFFFFF;\n",
              "    }\n",
              "  </style>\n",
              "\n",
              "      <script>\n",
              "        const buttonEl =\n",
              "          document.querySelector('#df-6e9fd0b3-7b9b-4072-b951-9d3f377864c9 button.colab-df-convert');\n",
              "        buttonEl.style.display =\n",
              "          google.colab.kernel.accessAllowed ? 'block' : 'none';\n",
              "\n",
              "        async function convertToInteractive(key) {\n",
              "          const element = document.querySelector('#df-6e9fd0b3-7b9b-4072-b951-9d3f377864c9');\n",
              "          const dataTable =\n",
              "            await google.colab.kernel.invokeFunction('convertToInteractive',\n",
              "                                                     [key], {});\n",
              "          if (!dataTable) return;\n",
              "\n",
              "          const docLinkHtml = 'Like what you see? Visit the ' +\n",
              "            '<a target=\"_blank\" href=https://colab.research.google.com/notebooks/data_table.ipynb>data table notebook</a>'\n",
              "            + ' to learn more about interactive tables.';\n",
              "          element.innerHTML = '';\n",
              "          dataTable['output_type'] = 'display_data';\n",
              "          await google.colab.output.renderOutput(dataTable, element);\n",
              "          const docLink = document.createElement('div');\n",
              "          docLink.innerHTML = docLinkHtml;\n",
              "          element.appendChild(docLink);\n",
              "        }\n",
              "      </script>\n",
              "    </div>\n",
              "  </div>\n",
              "  "
            ]
          },
          "metadata": {},
          "execution_count": 1
        }
      ],
      "source": [
        "import pandas as pd\n",
        "\n",
        "url = 'https://drive.google.com/file/d/1tEQTEU9JXsqMR7VfqcJ4CVR2Vz9Qd7yD/view?usp=share_link'\n",
        "file_id = url.split('/')[-2]\n",
        "data_url = 'https://drive.google.com/uc?id=' + file_id\n",
        "data = pd.read_csv(data_url)\n",
        "data"
      ]
    },
    {
      "cell_type": "markdown",
      "source": [
        "Импорт библиотек"
      ],
      "metadata": {
        "id": "i8L4oW37DfND"
      }
    },
    {
      "cell_type": "code",
      "source": [
        "import pandas as pd\n",
        "import matplotlib.pyplot as plt\n",
        "import numpy as np\n",
        "from scipy.spatial.distance import cdist\n",
        "from sklearn.feature_extraction.text import TfidfVectorizer\n",
        "from sklearn.cluster import KMeans\n",
        "from sklearn.metrics import accuracy_score, adjusted_rand_score\n",
        "from sklearn.linear_model import LogisticRegression\n",
        "!pip install simplemma\n",
        "import simplemma\n",
        "!pip install stop_words\n",
        "from stop_words import get_stop_words\n",
        "%pip install pymorphy2\n",
        "import nltk\n",
        "nltk.download('stopwords')\n",
        "import string\n",
        "stopwords = set(nltk.corpus.stopwords.words('russian'))\n",
        "punctuations = set(string.punctuation)\n",
        "import pymorphy2"
      ],
      "metadata": {
        "colab": {
          "base_uri": "https://localhost:8080/"
        },
        "id": "8KL_1Bd6ZzU9",
        "outputId": "92cb5a62-de5b-4fb6-d696-fa1eb33a34b3"
      },
      "execution_count": null,
      "outputs": [
        {
          "output_type": "stream",
          "name": "stdout",
          "text": [
            "Looking in indexes: https://pypi.org/simple, https://us-python.pkg.dev/colab-wheels/public/simple/\n",
            "Requirement already satisfied: simplemma in /usr/local/lib/python3.10/dist-packages (0.9.1)\n",
            "Looking in indexes: https://pypi.org/simple, https://us-python.pkg.dev/colab-wheels/public/simple/\n",
            "Requirement already satisfied: stop_words in /usr/local/lib/python3.10/dist-packages (2018.7.23)\n",
            "Looking in indexes: https://pypi.org/simple, https://us-python.pkg.dev/colab-wheels/public/simple/\n",
            "Requirement already satisfied: pymorphy2 in /usr/local/lib/python3.10/dist-packages (0.9.1)\n",
            "Requirement already satisfied: dawg-python>=0.7.1 in /usr/local/lib/python3.10/dist-packages (from pymorphy2) (0.7.2)\n",
            "Requirement already satisfied: pymorphy2-dicts-ru<3.0,>=2.4 in /usr/local/lib/python3.10/dist-packages (from pymorphy2) (2.4.417127.4579844)\n",
            "Requirement already satisfied: docopt>=0.6 in /usr/local/lib/python3.10/dist-packages (from pymorphy2) (0.6.2)\n"
          ]
        },
        {
          "output_type": "stream",
          "name": "stderr",
          "text": [
            "[nltk_data] Downloading package stopwords to /root/nltk_data...\n",
            "[nltk_data]   Package stopwords is already up-to-date!\n"
          ]
        }
      ]
    },
    {
      "cell_type": "markdown",
      "source": [
        "Визуализация новостей по типам"
      ],
      "metadata": {
        "id": "ld4shIhmFPUo"
      }
    },
    {
      "cell_type": "code",
      "source": [
        "sum = data['Type'].value_counts().sum() # общее кол-во новостей\n",
        "percentage = data['Type'].value_counts() / sum * 100 # подсчет долей каждого типа новостей\n",
        "\n",
        "plt.bar(percentage.index, percentage.values)\n",
        "\n",
        "plt.title('Процентное отношение новостей по типам')\n",
        "plt.xlabel('Типы новостей')\n",
        "plt.ylabel('Процент, %')\n",
        "plt.xticks(rotation=90)\n",
        "plt.show()"
      ],
      "metadata": {
        "colab": {
          "base_uri": "https://localhost:8080/",
          "height": 539
        },
        "id": "YEzB_s0d2ozf",
        "outputId": "3f96cf69-beb9-4120-da40-642e87091320"
      },
      "execution_count": null,
      "outputs": [
        {
          "output_type": "display_data",
          "data": {
            "text/plain": [
              "<Figure size 640x480 with 1 Axes>"
            ],
            "image/png": "[encoded data removed]"
          },
          "metadata": {}
        }
      ]
    },
    {
      "cell_type": "markdown",
      "source": [
        "Функции для подготовки текста"
      ],
      "metadata": {
        "id": "B_iuoVMuwTu4"
      }
    },
    {
      "cell_type": "code",
      "source": [
        "def preprocess(text):\n",
        "    text = ''.join(ch for ch in text if ch not in punctuations) # Убираем знаки препинания\n",
        "    text = text.lower()  # Переводим текст в нижний регистр\n",
        "    text = ' '.join(word for word in text.split() if word not in stopwords) # Убираем стоп слова\n",
        "\n",
        "    return text\n",
        "\n",
        "def lemmatize(text):\n",
        "    morph = pymorphy2.MorphAnalyzer()\n",
        "    tokens = text.split() # разбиваем текст на токены\n",
        "    lemmas = [morph.parse(token)[0].normal_form for token in tokens] # Систематизируем токены\n",
        "    lemmatized_text = ' '.join(lemmas) # Добавляем лемму в текст\n",
        "\n",
        "    return lemmatized_text"
      ],
      "metadata": {
        "id": "JcMpuZKGwDH5"
      },
      "execution_count": null,
      "outputs": []
    },
    {
      "cell_type": "markdown",
      "source": [
        "Подготовка текста"
      ],
      "metadata": {
        "id": "Exf3U0wp0NSd"
      }
    },
    {
      "cell_type": "code",
      "source": [
        "data['Text'] = data['Text'].apply(preprocess, lemmatize)"
      ],
      "metadata": {
        "id": "OOioNBluzt_8"
      },
      "execution_count": null,
      "outputs": []
    },
    {
      "cell_type": "markdown",
      "source": [
        "Векторизация текстов новостей с помощью TF-IDF"
      ],
      "metadata": {
        "id": "rrUCEwchFTCx"
      }
    },
    {
      "cell_type": "code",
      "source": [
        "text = TfidfVectorizer().fit_transform(data['Text'])"
      ],
      "metadata": {
        "id": "62s8is0gaWRv"
      },
      "execution_count": null,
      "outputs": []
    },
    {
      "cell_type": "markdown",
      "source": [
        "Выбор числа кластеров методом локтя"
      ],
      "metadata": {
        "id": "Nc3meE9fFoEH"
      }
    },
    {
      "cell_type": "code",
      "source": [
        "# Строим график суммы квадратов расстояний от точек до центроидов в зависимости от числа кластеров\n",
        "score = []\n",
        "for k in range(1, 21):\n",
        "    kmeans = KMeans(n_clusters=k).fit(text)\n",
        "    kmeans.fit(text)\n",
        "    score.append(kmeans.inertia_)\n",
        "plt.plot(range(1, 21), score)\n",
        "plt.xlabel(\"Количество кластеров\")\n",
        "plt.ylabel(\"Score\")\n",
        "plt.show()"
      ],
      "metadata": {
        "colab": {
          "base_uri": "https://localhost:8080/",
          "height": 449
        },
        "id": "RKWr3gOWfbsk",
        "outputId": "6c42ecbb-d838-4aaf-c2c3-7a0558fd912d"
      },
      "execution_count": null,
      "outputs": [
        {
          "output_type": "display_data",
          "data": {
            "text/plain": [
              "<Figure size 640x480 with 1 Axes>"
            ],
            "image/png": "[encoded data removed]"
          },
          "metadata": {}
        }
      ]
    },
    {
      "cell_type": "markdown",
      "source": [
        "Кластеризация, оценка кластеризации по RAND Index"
      ],
      "metadata": {
        "id": "JIylVTu0Khj0"
      }
    },
    {
      "cell_type": "code",
      "source": [
        "# Кластеризуем векторы новостей с помощью K-Means\n",
        "kmeans = KMeans(n_clusters=6, random_state=42)\n",
        "y_test = kmeans.fit_predict(text)\n",
        "# Оцениваем качество кластеризации по RAND Index\n",
        "# Сравниваем метки кластеров с истинными метками типов новостей\n",
        "y_train = data[\"Type\"]\n",
        "ari = adjusted_rand_score(y_train, y_test)\n",
        "print(f\"Rand Index: {ari}\")\n",
        "#Adjusted Rand Index (ARI) - это мера сходства между двумя разбиениями данных на кластеры.\n",
        "#Она принимает значения от -1 до 1, где 1 означает полное совпадение, 0 означает случайное разбиение, а -1 означает полное несовпадение."
      ],
      "metadata": {
        "colab": {
          "base_uri": "https://localhost:8080/"
        },
        "id": "fXqNfY5s1UdH",
        "outputId": "c0987d6c-c81e-4f83-db43-fc0347884757"
      },
      "execution_count": null,
      "outputs": [
        {
          "output_type": "stream",
          "name": "stdout",
          "text": [
            "Rand Index: 0.24044528863730832\n"
          ]
        },
        {
          "output_type": "stream",
          "name": "stderr",
          "text": [
            "/usr/local/lib/python3.10/dist-packages/sklearn/cluster/_kmeans.py:870: FutureWarning: The default value of `n_init` will change from 10 to 'auto' in 1.4. Set the value of `n_init` explicitly to suppress the warning\n",
            "  warnings.warn(\n"
          ]
        }
      ]
    },
    {
      "cell_type": "markdown",
      "source": [
        "Обучение классификатора, проверка точности классификатора"
      ],
      "metadata": {
        "id": "9jh-2AqsLILX"
      }
    },
    {
      "cell_type": "code",
      "source": [
        "from sklearn.model_selection import train_test_split\n",
        "X_train, X_test, Y_train, Y_test = train_test_split(text, data['Type'], test_size=0.2, random_state=42)"
      ],
      "metadata": {
        "id": "FA9ULUJh34pY"
      },
      "execution_count": null,
      "outputs": []
    },
    {
      "cell_type": "code",
      "source": [
        "X_train.shape[0] #Кол-во тренировочных новостей"
      ],
      "metadata": {
        "colab": {
          "base_uri": "https://localhost:8080/"
        },
        "id": "0DCqSapm4V--",
        "outputId": "25dd2e6f-8b0c-4405-b71a-5aa9919fc327"
      },
      "execution_count": null,
      "outputs": [
        {
          "output_type": "execute_result",
          "data": {
            "text/plain": [
              "78"
            ]
          },
          "metadata": {},
          "execution_count": 54
        }
      ]
    },
    {
      "cell_type": "code",
      "source": [
        "X_test.shape[0] #Кол-во тестовых новостей"
      ],
      "metadata": {
        "colab": {
          "base_uri": "https://localhost:8080/"
        },
        "id": "-mlQIbZ938Jc",
        "outputId": "b0b24be2-1bee-4059-f5d5-693755df4db1"
      },
      "execution_count": null,
      "outputs": [
        {
          "output_type": "execute_result",
          "data": {
            "text/plain": [
              "20"
            ]
          },
          "metadata": {},
          "execution_count": 55
        }
      ]
    },
    {
      "cell_type": "code",
      "source": [
        "clf = LogisticRegression()\n",
        "\n",
        "# Обучаем логистическую регрессию как классификатор\n",
        "clf.fit(X_train, Y_train)\n",
        "\n",
        "# Делаем предсказание\n",
        "y_pred = clf.predict(X_test)\n",
        "\n",
        "# Проверяем точность работы классификатора\n",
        "accuracy = accuracy_score(Y_test, y_pred)\n",
        "print(\"Accuracy:\", accuracy)"
      ],
      "metadata": {
        "colab": {
          "base_uri": "https://localhost:8080/"
        },
        "id": "cbsMgojW4NXu",
        "outputId": "79d0cb29-386d-4d01-9ae2-d4c939f5e562"
      },
      "execution_count": null,
      "outputs": [
        {
          "output_type": "stream",
          "name": "stdout",
          "text": [
            "Accuracy: 0.6\n"
          ]
        }
      ]
    }
  ]
}